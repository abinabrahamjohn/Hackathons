{
  "nbformat": 4,
  "nbformat_minor": 0,
  "metadata": {
    "colab": {
      "name": "AV Hackathon",
      "provenance": [],
      "collapsed_sections": []
    },
    "kernelspec": {
      "display_name": "Python 3",
      "language": "python",
      "name": "python3"
    },
    "language_info": {
      "codemirror_mode": {
        "name": "ipython",
        "version": 3
      },
      "file_extension": ".py",
      "mimetype": "text/x-python",
      "name": "python",
      "nbconvert_exporter": "python",
      "pygments_lexer": "ipython3",
      "version": "3.7.0"
    },
    "accelerator": "GPU"
  },
  "cells": [
    {
      "cell_type": "markdown",
      "metadata": {
        "colab_type": "text",
        "id": "N3H6jgqxAAJK"
      },
      "source": [
        "# Detect Emergency Vehicles - Transfer learning"
      ]
    },
    {
      "cell_type": "code",
      "metadata": {
        "colab_type": "code",
        "id": "5NvPn9FUAAJM",
        "colab": {}
      },
      "source": [
        "import numpy as np\n",
        "import tensorflow as tf\n",
        "from tensorflow import keras\n",
        "import pandas as pd\n",
        "import os\n",
        "import random\n",
        "from shutil import copyfile\n",
        "import matplotlib.pyplot as plt\n",
        "\n",
        "import tensorflow as tf\n",
        "from tensorflow.keras.preprocessing.image import ImageDataGenerator\n",
        "from tensorflow.keras.layers import Dense\n",
        "from tensorflow.keras import layers\n",
        "from tensorflow.keras import Model\n",
        "from tensorflow.keras.optimizers import RMSprop"
      ],
      "execution_count": 0,
      "outputs": []
    },
    {
      "cell_type": "markdown",
      "metadata": {
        "colab_type": "text",
        "id": "CVQ8KY14AAJj"
      },
      "source": [
        "### Getting the data\n",
        "\n",
        "Data has been provided by the organizers of the hackathon :\n",
        "https://datahack.analyticsvidhya.com/contest/janatahack-computer-vision-hackathon/\n"
      ]
    },
    {
      "cell_type": "code",
      "metadata": {
        "id": "9mzlrewhURzu",
        "colab_type": "code",
        "colab": {
          "base_uri": "https://localhost:8080/",
          "height": 55
        },
        "outputId": "ee7ffd76-50dc-4c85-9ca1-a0746ae769f4"
      },
      "source": [
        "# Load the Drive helper and mount\n",
        "from google.colab import drive\n",
        "\n",
        "# This will prompt for authorization.\n",
        "drive.mount('/content/drive')"
      ],
      "execution_count": 2,
      "outputs": [
        {
          "output_type": "stream",
          "text": [
            "Drive already mounted at /content/drive; to attempt to forcibly remount, call drive.mount(\"/content/drive\", force_remount=True).\n"
          ],
          "name": "stdout"
        }
      ]
    },
    {
      "cell_type": "code",
      "metadata": {
        "id": "cQqDo4_dUYq3",
        "colab_type": "code",
        "colab": {}
      },
      "source": [
        "#!ls \"/content/drive/My Drive/BigData2020/data\"\n",
        "dirPath = \"/content/drive/My Drive/Colab Notebooks/AV/AV_Janata_Hack_3/data/train/\"\n",
        "#%ls -l \"$dirPath\" # Get the content of the directory in long format (note the '$')"
      ],
      "execution_count": 0,
      "outputs": []
    },
    {
      "cell_type": "code",
      "metadata": {
        "id": "AtjjbzNz9YB9",
        "colab_type": "code",
        "colab": {}
      },
      "source": [
        "#Source - https://gist.github.com/bertcarremans/679624f369ed9270472e37f8333244f5\n",
        "def img_train_test_split(img_source_dir, train_size):\n",
        "    \"\"\"\n",
        "    Randomly splits images over a train and validation folder, while preserving the folder structure\n",
        "    \n",
        "    Parameters\n",
        "    ----------\n",
        "    img_source_dir : string\n",
        "        Path to the folder with the images to be split. Can be absolute or relative path   \n",
        "        \n",
        "    train_size : float\n",
        "        Proportion of the original images that need to be copied in the subdirectory in the train folder\n",
        "    \"\"\"    \n",
        "    if not (isinstance(img_source_dir, str)):\n",
        "        raise AttributeError('img_source_dir must be a string')\n",
        "        \n",
        "    if not os.path.exists(img_source_dir):\n",
        "        raise OSError('img_source_dir does not exist')\n",
        "        \n",
        "    if not (isinstance(train_size, float)):\n",
        "        raise AttributeError('train_size must be a float')\n",
        "        \n",
        "    # Set up empty folder structure if not exists\n",
        "    if not os.path.exists('data'):\n",
        "        os.makedirs('data')\n",
        "    if not os.path.exists('data/train'):\n",
        "        os.makedirs('data/train')\n",
        "    if not os.path.exists('data/validation'):\n",
        "        os.makedirs('data/validation')\n",
        "            \n",
        "    # Get the subdirectories in the main image folder\n",
        "    subdirs = [subdir for subdir in os.listdir(img_source_dir) if os.path.isdir(os.path.join(img_source_dir, subdir))]\n",
        "\n",
        "    for subdir in subdirs:\n",
        "        subdir_fullpath = os.path.join(img_source_dir, subdir)\n",
        "        if len(os.listdir(subdir_fullpath)) == 0:\n",
        "            print(subdir_fullpath + ' is empty')\n",
        "            break\n",
        "\n",
        "        train_subdir = os.path.join('data/train', subdir)\n",
        "        validation_subdir = os.path.join('data/validation', subdir)\n",
        "\n",
        "        # Create subdirectories in train and validation folders\n",
        "        if not os.path.exists(train_subdir):\n",
        "            os.makedirs(train_subdir)\n",
        "\n",
        "        if not os.path.exists(validation_subdir):\n",
        "            os.makedirs(validation_subdir)\n",
        "\n",
        "        train_counter = 0\n",
        "        validation_counter = 0\n",
        "\n",
        "        # Randomly assign an image to train or validation folder\n",
        "        for filename in os.listdir(subdir_fullpath):\n",
        "            if filename.endswith(\".jpg\") or filename.endswith(\".png\"): \n",
        "                fileparts = filename.split('.')\n",
        "\n",
        "                if random.uniform(0, 1) <= train_size:\n",
        "                    copyfile(os.path.join(subdir_fullpath, filename), os.path.join(train_subdir, str(train_counter) + '.' + fileparts[1]))\n",
        "                    train_counter += 1\n",
        "                else:\n",
        "                    copyfile(os.path.join(subdir_fullpath, filename), os.path.join(validation_subdir, str(validation_counter) + '.' + fileparts[1]))\n",
        "                    validation_counter += 1\n",
        "                    \n",
        "        print('Copied ' + str(train_counter) + ' images to data/train/' + subdir)\n",
        "        print('Copied ' + str(validation_counter) + ' images to data/validation/' + subdir)"
      ],
      "execution_count": 0,
      "outputs": []
    },
    {
      "cell_type": "code",
      "metadata": {
        "id": "7-HyCBwU9z6A",
        "colab_type": "code",
        "colab": {
          "base_uri": "https://localhost:8080/",
          "height": 87
        },
        "outputId": "3548a9d4-65b5-4287-c5c2-0207d9095b6b"
      },
      "source": [
        "img_train_test_split(dirPath,0.80)"
      ],
      "execution_count": 12,
      "outputs": [
        {
          "output_type": "stream",
          "text": [
            "Copied 786 images to data/train/0\n",
            "Copied 179 images to data/validation/0\n",
            "Copied 520 images to data/train/1\n",
            "Copied 161 images to data/validation/1\n"
          ],
          "name": "stdout"
        }
      ]
    },
    {
      "cell_type": "code",
      "metadata": {
        "id": "E9dlLFOPaKFV",
        "colab_type": "code",
        "colab": {}
      },
      "source": [
        "train=pd.read_csv(dirPath+'train.csv', index_col='image_names')\n",
        "test=pd.read_csv(dirPath+'test.csv', index_col='image_names')"
      ],
      "execution_count": 0,
      "outputs": []
    },
    {
      "cell_type": "code",
      "metadata": {
        "id": "2l-sky2C2mWc",
        "colab_type": "code",
        "colab": {}
      },
      "source": [
        "labels = list(train['emergency_or_not'].unique())\n",
        "\n",
        "for label in labels:\n",
        "  try:\n",
        "    os.makedirs('./drive/My Drive/Colab Notebooks/AV/AV_Janata_Hack_3/data/train/'+str(label))\n",
        "  except:\n",
        "    print('Directory already exists/ Error in creation')"
      ],
      "execution_count": 0,
      "outputs": []
    },
    {
      "cell_type": "code",
      "metadata": {
        "id": "Sp8X_Wy5ajXA",
        "colab_type": "code",
        "colab": {}
      },
      "source": [
        "for image in train.index:\n",
        "  folder = train.loc[image, 'emergency_or_not']\n",
        "  src = './drive/My Drive/Colab Notebooks/AV/AV_Janata_Hack_3/'+'images/{}'.format(image)\n",
        "  dst = './drive/My Drive/Colab Notebooks/AV/AV_Janata_Hack_3/data/train/{}/{}'.format(folder, image)\n",
        "  try:\n",
        "    copyfile(src, dst)\n",
        "  except:\n",
        "    print('Could not copy {} - {}'.format(image,folder))"
      ],
      "execution_count": 0,
      "outputs": []
    },
    {
      "cell_type": "code",
      "metadata": {
        "id": "_Kcgy78rcktp",
        "colab_type": "code",
        "colab": {}
      },
      "source": [
        "for image in test.index:\n",
        "  src = './drive/My Drive/Colab Notebooks/AV/AV_Janata_Hack_3/'+'images/{}'.format(image)\n",
        "  dst = './drive/My Drive/Colab Notebooks/AV/AV_Janata_Hack_3/data/test/{}'.format(image)\n",
        "  try:\n",
        "    copyfile(src, dst)\n",
        "  except:\n",
        "    print('Could not copy {} - {}'.format(image,folder))"
      ],
      "execution_count": 0,
      "outputs": []
    },
    {
      "cell_type": "markdown",
      "metadata": {
        "colab_type": "text",
        "id": "rLsmaBHHAAJo"
      },
      "source": [
        "### Standardizing the data and Augmentation\n",
        "\n",
        "Our raw images have a variety of sizes. In addition, each pixel consists of 3 integer\n",
        "values between 0 and 255 (RGB level values). This isn't a great fit for feeding a\n",
        " neural network. We need to do 2 things:\n",
        "\n",
        "- Standardize to a fixed image size. We pick 224X224.\n",
        "- Normalize pixel values between -1 and 1. We'll do this using a `Normalization` layer as\n",
        " part of the model itself.\n",
        "\n",
        "Here, we'll do image resizing in the data pipeline (because a deep neural network can\n",
        "only process contiguous batches of data), and we'll do the input value scaling as part\n",
        " of the model, when we create it."
      ]
    },
    {
      "cell_type": "code",
      "metadata": {
        "id": "C-N4jeglP-F1",
        "colab_type": "code",
        "colab": {
          "base_uri": "https://localhost:8080/",
          "height": 35
        },
        "outputId": "3766551a-a8db-4659-d35d-70fd891ca95d"
      },
      "source": [
        "train_dir='./data/train/'\n",
        "train_datagen = ImageDataGenerator(\n",
        "    rescale=1./255,\n",
        "    rotation_range=20,\n",
        "    width_shift_range=0.2,\n",
        "    height_shift_range=0.2,\n",
        "    shear_range=0.2,\n",
        "    zoom_range=0.2,\n",
        "    horizontal_flip=True,fill_mode='nearest')\n",
        "\n",
        "train_generator = train_datagen.flow_from_directory(\n",
        "        train_dir,  # This is the source directory for training images\n",
        "        target_size=(224, 224),  # All images will be resized to 150x150\n",
        "        batch_size=20,\n",
        "        # Since we use binary_crossentropy loss, we need binary labels\n",
        "        class_mode='binary')"
      ],
      "execution_count": 5,
      "outputs": [
        {
          "output_type": "stream",
          "text": [
            "Found 1306 images belonging to 2 classes.\n"
          ],
          "name": "stdout"
        }
      ]
    },
    {
      "cell_type": "code",
      "metadata": {
        "id": "VFSzhfUoIkHQ",
        "colab_type": "code",
        "colab": {
          "base_uri": "https://localhost:8080/",
          "height": 35
        },
        "outputId": "0e6ad135-f3e2-4a4b-e167-f18c9a3edfb2"
      },
      "source": [
        "validation_dir='./data/validation/'\n",
        "\n",
        "# Note that the validation data should not be augmented!\n",
        "validation_datagen = ImageDataGenerator(rescale=1./255)\n",
        "\n",
        "# Flow validation images in batches of 20 using test_datagen generator\n",
        "validation_generator = validation_datagen.flow_from_directory(\n",
        "        validation_dir,\n",
        "        target_size=(224, 224),\n",
        "        batch_size=20,\n",
        "        class_mode='binary')"
      ],
      "execution_count": 6,
      "outputs": [
        {
          "output_type": "stream",
          "text": [
            "Found 340 images belonging to 2 classes.\n"
          ],
          "name": "stdout"
        }
      ]
    },
    {
      "cell_type": "markdown",
      "metadata": {
        "id": "d1CjiL716C6y",
        "colab_type": "text"
      },
      "source": [
        "### Building the model using pre-trained VGG16 model on Imagenet"
      ]
    },
    {
      "cell_type": "code",
      "metadata": {
        "id": "Bbqktzgcoa7l",
        "colab_type": "code",
        "colab": {
          "base_uri": "https://localhost:8080/",
          "height": 1000
        },
        "outputId": "64f826ad-b100-4095-f7bd-cc783cd9944f"
      },
      "source": [
        "vgg = keras.applications.VGG16(weights='imagenet', include_top=True)\n",
        "vgg.summary()\n",
        "# make a reference to VGG's input layer\n",
        "inp = vgg.input\n",
        "num_classes=2\n",
        "\n",
        "# make a new softmax layer with num_classes neurons\n",
        "new_classification_layer = Dense(1, activation='sigmoid')\n",
        "\n",
        "# connect our new layer to the second to last layer in VGG, and make a reference to it\n",
        "\n",
        "out = layers.Dropout(0.3)(vgg.layers[-2].output)\n",
        "out = new_classification_layer(out)\n",
        "# create a new network between inp and out\n",
        "model = Model(inp, out)\n",
        "\n",
        "# make all layers untrainable by freezing weights (except for last layer)\n",
        "for l, layer in enumerate(model.layers[:-1]):\n",
        "    layer.trainable = False\n",
        "\n",
        "# ensure the last layer is trainable/not frozen\n",
        "for l, layer in enumerate(model.layers[-1:]):\n",
        "    layer.trainable = True\n",
        "\n",
        "model.compile(loss='binary_crossentropy',\n",
        "              optimizer='adam',\n",
        "              metrics=['accuracy'])\n",
        "\n",
        "model.summary()"
      ],
      "execution_count": 33,
      "outputs": [
        {
          "output_type": "stream",
          "text": [
            "Model: \"vgg16\"\n",
            "_________________________________________________________________\n",
            "Layer (type)                 Output Shape              Param #   \n",
            "=================================================================\n",
            "input_2 (InputLayer)         [(None, 224, 224, 3)]     0         \n",
            "_________________________________________________________________\n",
            "block1_conv1 (Conv2D)        (None, 224, 224, 64)      1792      \n",
            "_________________________________________________________________\n",
            "block1_conv2 (Conv2D)        (None, 224, 224, 64)      36928     \n",
            "_________________________________________________________________\n",
            "block1_pool (MaxPooling2D)   (None, 112, 112, 64)      0         \n",
            "_________________________________________________________________\n",
            "block2_conv1 (Conv2D)        (None, 112, 112, 128)     73856     \n",
            "_________________________________________________________________\n",
            "block2_conv2 (Conv2D)        (None, 112, 112, 128)     147584    \n",
            "_________________________________________________________________\n",
            "block2_pool (MaxPooling2D)   (None, 56, 56, 128)       0         \n",
            "_________________________________________________________________\n",
            "block3_conv1 (Conv2D)        (None, 56, 56, 256)       295168    \n",
            "_________________________________________________________________\n",
            "block3_conv2 (Conv2D)        (None, 56, 56, 256)       590080    \n",
            "_________________________________________________________________\n",
            "block3_conv3 (Conv2D)        (None, 56, 56, 256)       590080    \n",
            "_________________________________________________________________\n",
            "block3_pool (MaxPooling2D)   (None, 28, 28, 256)       0         \n",
            "_________________________________________________________________\n",
            "block4_conv1 (Conv2D)        (None, 28, 28, 512)       1180160   \n",
            "_________________________________________________________________\n",
            "block4_conv2 (Conv2D)        (None, 28, 28, 512)       2359808   \n",
            "_________________________________________________________________\n",
            "block4_conv3 (Conv2D)        (None, 28, 28, 512)       2359808   \n",
            "_________________________________________________________________\n",
            "block4_pool (MaxPooling2D)   (None, 14, 14, 512)       0         \n",
            "_________________________________________________________________\n",
            "block5_conv1 (Conv2D)        (None, 14, 14, 512)       2359808   \n",
            "_________________________________________________________________\n",
            "block5_conv2 (Conv2D)        (None, 14, 14, 512)       2359808   \n",
            "_________________________________________________________________\n",
            "block5_conv3 (Conv2D)        (None, 14, 14, 512)       2359808   \n",
            "_________________________________________________________________\n",
            "block5_pool (MaxPooling2D)   (None, 7, 7, 512)         0         \n",
            "_________________________________________________________________\n",
            "flatten (Flatten)            (None, 25088)             0         \n",
            "_________________________________________________________________\n",
            "fc1 (Dense)                  (None, 4096)              102764544 \n",
            "_________________________________________________________________\n",
            "fc2 (Dense)                  (None, 4096)              16781312  \n",
            "_________________________________________________________________\n",
            "predictions (Dense)          (None, 1000)              4097000   \n",
            "=================================================================\n",
            "Total params: 138,357,544\n",
            "Trainable params: 138,357,544\n",
            "Non-trainable params: 0\n",
            "_________________________________________________________________\n",
            "Model: \"model_1\"\n",
            "_________________________________________________________________\n",
            "Layer (type)                 Output Shape              Param #   \n",
            "=================================================================\n",
            "input_2 (InputLayer)         [(None, 224, 224, 3)]     0         \n",
            "_________________________________________________________________\n",
            "block1_conv1 (Conv2D)        (None, 224, 224, 64)      1792      \n",
            "_________________________________________________________________\n",
            "block1_conv2 (Conv2D)        (None, 224, 224, 64)      36928     \n",
            "_________________________________________________________________\n",
            "block1_pool (MaxPooling2D)   (None, 112, 112, 64)      0         \n",
            "_________________________________________________________________\n",
            "block2_conv1 (Conv2D)        (None, 112, 112, 128)     73856     \n",
            "_________________________________________________________________\n",
            "block2_conv2 (Conv2D)        (None, 112, 112, 128)     147584    \n",
            "_________________________________________________________________\n",
            "block2_pool (MaxPooling2D)   (None, 56, 56, 128)       0         \n",
            "_________________________________________________________________\n",
            "block3_conv1 (Conv2D)        (None, 56, 56, 256)       295168    \n",
            "_________________________________________________________________\n",
            "block3_conv2 (Conv2D)        (None, 56, 56, 256)       590080    \n",
            "_________________________________________________________________\n",
            "block3_conv3 (Conv2D)        (None, 56, 56, 256)       590080    \n",
            "_________________________________________________________________\n",
            "block3_pool (MaxPooling2D)   (None, 28, 28, 256)       0         \n",
            "_________________________________________________________________\n",
            "block4_conv1 (Conv2D)        (None, 28, 28, 512)       1180160   \n",
            "_________________________________________________________________\n",
            "block4_conv2 (Conv2D)        (None, 28, 28, 512)       2359808   \n",
            "_________________________________________________________________\n",
            "block4_conv3 (Conv2D)        (None, 28, 28, 512)       2359808   \n",
            "_________________________________________________________________\n",
            "block4_pool (MaxPooling2D)   (None, 14, 14, 512)       0         \n",
            "_________________________________________________________________\n",
            "block5_conv1 (Conv2D)        (None, 14, 14, 512)       2359808   \n",
            "_________________________________________________________________\n",
            "block5_conv2 (Conv2D)        (None, 14, 14, 512)       2359808   \n",
            "_________________________________________________________________\n",
            "block5_conv3 (Conv2D)        (None, 14, 14, 512)       2359808   \n",
            "_________________________________________________________________\n",
            "block5_pool (MaxPooling2D)   (None, 7, 7, 512)         0         \n",
            "_________________________________________________________________\n",
            "flatten (Flatten)            (None, 25088)             0         \n",
            "_________________________________________________________________\n",
            "fc1 (Dense)                  (None, 4096)              102764544 \n",
            "_________________________________________________________________\n",
            "fc2 (Dense)                  (None, 4096)              16781312  \n",
            "_________________________________________________________________\n",
            "dropout_1 (Dropout)          (None, 4096)              0         \n",
            "_________________________________________________________________\n",
            "dense_1 (Dense)              (None, 1)                 4097      \n",
            "=================================================================\n",
            "Total params: 134,264,641\n",
            "Trainable params: 4,097\n",
            "Non-trainable params: 134,260,544\n",
            "_________________________________________________________________\n"
          ],
          "name": "stdout"
        }
      ]
    },
    {
      "cell_type": "markdown",
      "metadata": {
        "id": "7A1GU45Dzpuh",
        "colab_type": "text"
      },
      "source": [
        "####Training"
      ]
    },
    {
      "cell_type": "code",
      "metadata": {
        "id": "c1LoVC2LWz3f",
        "colab_type": "code",
        "colab": {
          "base_uri": "https://localhost:8080/",
          "height": 488
        },
        "outputId": "ffd57855-d5b5-4c78-e1af-feb6cbb248d3"
      },
      "source": [
        "epochs = 20\n",
        "batch_size=20\n",
        "#callback = tf.keras.callbacks.EarlyStopping(monitor='loss', patience=3)\n",
        "callback = tf.keras.callbacks.EarlyStopping(\n",
        "    monitor=\"val_loss\",\n",
        "    min_delta=0,\n",
        "    patience=3,\n",
        "    verbose=1,\n",
        "    mode=\"auto\",\n",
        "    baseline=None,\n",
        "    restore_best_weights=True,\n",
        ")\n",
        "\n",
        "history = model.fit(train_generator,\n",
        "                    validation_data=validation_generator,\n",
        "                    epochs=epochs, \n",
        "                    verbose=1,\n",
        "                    steps_per_epoch=1306//batch_size, # batch size of 20 is defined in generator, so 2000/20 training batches\n",
        "                    validation_steps=340//batch_size,callbacks=[callback])\n",
        "model.save_weights('best_model.h5') "
      ],
      "execution_count": 34,
      "outputs": [
        {
          "output_type": "stream",
          "text": [
            "Epoch 1/20\n",
            "65/65 [==============================] - 17s 260ms/step - loss: 0.6629 - accuracy: 0.6236 - val_loss: 0.4861 - val_accuracy: 0.7912\n",
            "Epoch 2/20\n",
            "65/65 [==============================] - 17s 255ms/step - loss: 0.5330 - accuracy: 0.7325 - val_loss: 0.4467 - val_accuracy: 0.7706\n",
            "Epoch 3/20\n",
            "65/65 [==============================] - 17s 259ms/step - loss: 0.4999 - accuracy: 0.7652 - val_loss: 0.4342 - val_accuracy: 0.7647\n",
            "Epoch 4/20\n",
            "65/65 [==============================] - 16s 251ms/step - loss: 0.4921 - accuracy: 0.7589 - val_loss: 0.4805 - val_accuracy: 0.7441\n",
            "Epoch 5/20\n",
            "65/65 [==============================] - 17s 257ms/step - loss: 0.4593 - accuracy: 0.7776 - val_loss: 0.4066 - val_accuracy: 0.8206\n",
            "Epoch 6/20\n",
            "65/65 [==============================] - 17s 257ms/step - loss: 0.4472 - accuracy: 0.8033 - val_loss: 0.3430 - val_accuracy: 0.8824\n",
            "Epoch 7/20\n",
            "65/65 [==============================] - 17s 255ms/step - loss: 0.4464 - accuracy: 0.7970 - val_loss: 0.3320 - val_accuracy: 0.8618\n",
            "Epoch 8/20\n",
            "65/65 [==============================] - 17s 257ms/step - loss: 0.4304 - accuracy: 0.8017 - val_loss: 0.3292 - val_accuracy: 0.8765\n",
            "Epoch 9/20\n",
            "65/65 [==============================] - 17s 259ms/step - loss: 0.4118 - accuracy: 0.8056 - val_loss: 0.3128 - val_accuracy: 0.8794\n",
            "Epoch 10/20\n",
            "65/65 [==============================] - 16s 253ms/step - loss: 0.4147 - accuracy: 0.8040 - val_loss: 0.3187 - val_accuracy: 0.8765\n",
            "Epoch 11/20\n",
            "65/65 [==============================] - 16s 252ms/step - loss: 0.3941 - accuracy: 0.8188 - val_loss: 0.3173 - val_accuracy: 0.8735\n",
            "Epoch 12/20\n",
            "65/65 [==============================] - ETA: 0s - loss: 0.3983 - accuracy: 0.8250Restoring model weights from the end of the best epoch.\n",
            "65/65 [==============================] - 17s 256ms/step - loss: 0.3983 - accuracy: 0.8250 - val_loss: 0.3266 - val_accuracy: 0.8618\n",
            "Epoch 00012: early stopping\n"
          ],
          "name": "stdout"
        }
      ]
    },
    {
      "cell_type": "code",
      "metadata": {
        "id": "yLra5Z_iguo_",
        "colab_type": "code",
        "colab": {}
      },
      "source": [
        "models_path='/content/drive/My Drive/Colab Notebooks/AV/AV_Janata_Hack_3/models/'\n",
        "if not os.path.exists(models_path):\n",
        "    os.makedirs(models_path)\n",
        "    model.save_weights(models_path+'best_model.h5') "
      ],
      "execution_count": 0,
      "outputs": []
    },
    {
      "cell_type": "code",
      "metadata": {
        "id": "vSeLp7mvvWqf",
        "colab_type": "code",
        "colab": {
          "base_uri": "https://localhost:8080/",
          "height": 289
        },
        "outputId": "7ba82dbd-996b-401b-9895-10e46f898a4e"
      },
      "source": [
        "fig = plt.figure(figsize=(16,4))\n",
        "ax = fig.add_subplot(121)\n",
        "ax.plot(history.history[\"loss\"],label='Training')\n",
        "ax.plot(history.history[\"val_loss\"],label='Validation')\n",
        "legend = ax.legend(loc='best', shadow=True, fontsize='x-large')\n",
        "ax.set_title(\"Loss\")\n",
        "ax.set_xlabel(\"epochs\")\n",
        "\n",
        "ax2 = fig.add_subplot(122)\n",
        "ax2.plot(history.history[\"accuracy\"],label='Training')\n",
        "ax2.plot(history.history[\"val_accuracy\"],label='Validation')\n",
        "legend = ax2.legend(loc='best', shadow=True, fontsize='x-large')\n",
        "ax2.set_title(\"Accuracy\")\n",
        "ax2.set_xlabel(\"epochs\")\n",
        "ax2.set_ylim(0, 1)\n",
        "\n",
        "plt.show()"
      ],
      "execution_count": 36,
      "outputs": [
        {
          "output_type": "display_data",
          "data": {
            "image/png": "[encoded data removed]",
            "text/plain": [
              "<Figure size 1152x288 with 2 Axes>"
            ]
          },
          "metadata": {
            "tags": [],
            "needs_background": "light"
          }
        }
      ]
    },
    {
      "cell_type": "code",
      "metadata": {
        "id": "GZAqebaEbtFn",
        "colab_type": "code",
        "colab": {
          "base_uri": "https://localhost:8080/",
          "height": 35
        },
        "outputId": "ee0c70c7-6c6e-4c38-fae6-d2c31815a76f"
      },
      "source": [
        "test_dir='./drive/My Drive/Colab Notebooks/AV/AV_Janata_Hack_3/data/.'\n",
        "test_datagen = ImageDataGenerator(\n",
        "    rescale=1./255)\n",
        "test_generator = test_datagen.flow_from_directory(\n",
        "        test_dir,  # This is the source directory for training images\n",
        "        target_size=(224, 224),  # All images will be resized to 150x150\n",
        "        batch_size=1,class_mode='binary',classes=['test']\n",
        "        # Since we use binary_crossentropy loss, we need binary labels),\n",
        ")"
      ],
      "execution_count": 12,
      "outputs": [
        {
          "output_type": "stream",
          "text": [
            "Found 706 images belonging to 1 classes.\n"
          ],
          "name": "stdout"
        }
      ]
    },
    {
      "cell_type": "code",
      "metadata": {
        "id": "MQIsdYxnepQ5",
        "colab_type": "code",
        "colab": {}
      },
      "source": [
        "filenames = test_generator.filenames\n",
        "nb_samples = len(filenames)"
      ],
      "execution_count": 0,
      "outputs": []
    },
    {
      "cell_type": "code",
      "metadata": {
        "id": "C3vSsj5ie_Tv",
        "colab_type": "code",
        "colab": {}
      },
      "source": [
        "try:\n",
        "  predictions = model.predict(test_generator,steps = nb_samples)\n",
        "except:\n",
        "  print('Damn!')"
      ],
      "execution_count": 0,
      "outputs": []
    },
    {
      "cell_type": "code",
      "metadata": {
        "id": "-UjG0j3T2Kcg",
        "colab_type": "code",
        "colab": {}
      },
      "source": [
        "predictions_df=pd.DataFrame(data=filenames, columns=[\"image_names\"])\n",
        "predictions_df[\"image_names\"]=predictions_df[\"image_names\"].str.replace(\"test/\",\"\")\n",
        "predictions_df['prediction']=predictions\n",
        "threshold=0.5\n",
        "predictions_df['emergency_or_not']=['1' if x >= threshold else '0' for x in predictions_df['prediction']]"
      ],
      "execution_count": 0,
      "outputs": []
    },
    {
      "cell_type": "code",
      "metadata": {
        "id": "Z7rltFYHP5Qf",
        "colab_type": "code",
        "colab": {}
      },
      "source": [
        "predictions_df.to_csv('submission.csv')"
      ],
      "execution_count": 0,
      "outputs": []
    },
    {
      "cell_type": "markdown",
      "metadata": {
        "id": "racqY1kNxJPl",
        "colab_type": "text"
      },
      "source": [
        "####Fine Tuning model"
      ]
    },
    {
      "cell_type": "code",
      "metadata": {
        "id": "fbazv1edxH0D",
        "colab_type": "code",
        "colab": {
          "base_uri": "https://localhost:8080/",
          "height": 988
        },
        "outputId": "df2d664c-2711-4b95-ec6d-01e5e324faf7"
      },
      "source": [
        "# ensure all the layers are trainable/not frozen\n",
        "for l, layer in enumerate(model.layers):\n",
        "    layer.trainable = True\n",
        "\n",
        "model.compile(loss='binary_crossentropy',\n",
        "              optimizer=keras.optimizers.Adam(1e-5),\n",
        "              metrics=['accuracy'])\n",
        "\n",
        "model.summary()"
      ],
      "execution_count": 37,
      "outputs": [
        {
          "output_type": "stream",
          "text": [
            "Model: \"model_1\"\n",
            "_________________________________________________________________\n",
            "Layer (type)                 Output Shape              Param #   \n",
            "=================================================================\n",
            "input_2 (InputLayer)         [(None, 224, 224, 3)]     0         \n",
            "_________________________________________________________________\n",
            "block1_conv1 (Conv2D)        (None, 224, 224, 64)      1792      \n",
            "_________________________________________________________________\n",
            "block1_conv2 (Conv2D)        (None, 224, 224, 64)      36928     \n",
            "_________________________________________________________________\n",
            "block1_pool (MaxPooling2D)   (None, 112, 112, 64)      0         \n",
            "_________________________________________________________________\n",
            "block2_conv1 (Conv2D)        (None, 112, 112, 128)     73856     \n",
            "_________________________________________________________________\n",
            "block2_conv2 (Conv2D)        (None, 112, 112, 128)     147584    \n",
            "_________________________________________________________________\n",
            "block2_pool (MaxPooling2D)   (None, 56, 56, 128)       0         \n",
            "_________________________________________________________________\n",
            "block3_conv1 (Conv2D)        (None, 56, 56, 256)       295168    \n",
            "_________________________________________________________________\n",
            "block3_conv2 (Conv2D)        (None, 56, 56, 256)       590080    \n",
            "_________________________________________________________________\n",
            "block3_conv3 (Conv2D)        (None, 56, 56, 256)       590080    \n",
            "_________________________________________________________________\n",
            "block3_pool (MaxPooling2D)   (None, 28, 28, 256)       0         \n",
            "_________________________________________________________________\n",
            "block4_conv1 (Conv2D)        (None, 28, 28, 512)       1180160   \n",
            "_________________________________________________________________\n",
            "block4_conv2 (Conv2D)        (None, 28, 28, 512)       2359808   \n",
            "_________________________________________________________________\n",
            "block4_conv3 (Conv2D)        (None, 28, 28, 512)       2359808   \n",
            "_________________________________________________________________\n",
            "block4_pool (MaxPooling2D)   (None, 14, 14, 512)       0         \n",
            "_________________________________________________________________\n",
            "block5_conv1 (Conv2D)        (None, 14, 14, 512)       2359808   \n",
            "_________________________________________________________________\n",
            "block5_conv2 (Conv2D)        (None, 14, 14, 512)       2359808   \n",
            "_________________________________________________________________\n",
            "block5_conv3 (Conv2D)        (None, 14, 14, 512)       2359808   \n",
            "_________________________________________________________________\n",
            "block5_pool (MaxPooling2D)   (None, 7, 7, 512)         0         \n",
            "_________________________________________________________________\n",
            "flatten (Flatten)            (None, 25088)             0         \n",
            "_________________________________________________________________\n",
            "fc1 (Dense)                  (None, 4096)              102764544 \n",
            "_________________________________________________________________\n",
            "fc2 (Dense)                  (None, 4096)              16781312  \n",
            "_________________________________________________________________\n",
            "dropout_1 (Dropout)          (None, 4096)              0         \n",
            "_________________________________________________________________\n",
            "dense_1 (Dense)              (None, 1)                 4097      \n",
            "=================================================================\n",
            "Total params: 134,264,641\n",
            "Trainable params: 134,264,641\n",
            "Non-trainable params: 0\n",
            "_________________________________________________________________\n"
          ],
          "name": "stdout"
        }
      ]
    },
    {
      "cell_type": "code",
      "metadata": {
        "id": "a5blCOpYxPmo",
        "colab_type": "code",
        "colab": {
          "base_uri": "https://localhost:8080/",
          "height": 211
        },
        "outputId": "41ea5a87-8525-43c5-914f-a47097ef809e"
      },
      "source": [
        "epochs = 5\n",
        "batch_size=20\n",
        "#callback = tf.keras.callbacks.EarlyStopping(monitor='loss', patience=3)\n",
        "callback = tf.keras.callbacks.EarlyStopping(\n",
        "    monitor=\"val_loss\",\n",
        "    min_delta=0,\n",
        "    patience=2,\n",
        "    verbose=1,\n",
        "    mode=\"auto\",\n",
        "    baseline=None,\n",
        "    restore_best_weights=True,\n",
        ")\n",
        "\n",
        "history = model.fit(train_generator,\n",
        "                    validation_data=validation_generator,\n",
        "                    epochs=epochs, \n",
        "                    verbose=1,\n",
        "                    steps_per_epoch=1306//batch_size, # batch size of 20 is defined in generator, so 2000/20 training batches\n",
        "                    validation_steps=340//batch_size,callbacks=[callback])\n",
        "model.save_weights('best_model_tuned.h5') "
      ],
      "execution_count": 38,
      "outputs": [
        {
          "output_type": "stream",
          "text": [
            "Epoch 1/5\n",
            "65/65 [==============================] - 20s 307ms/step - loss: 0.4585 - accuracy: 0.8056 - val_loss: 0.1933 - val_accuracy: 0.9265\n",
            "Epoch 2/5\n",
            "65/65 [==============================] - 20s 304ms/step - loss: 0.2454 - accuracy: 0.8974 - val_loss: 0.1804 - val_accuracy: 0.9324\n",
            "Epoch 3/5\n",
            "65/65 [==============================] - 19s 300ms/step - loss: 0.2003 - accuracy: 0.9238 - val_loss: 0.1956 - val_accuracy: 0.9294\n",
            "Epoch 4/5\n",
            "65/65 [==============================] - 20s 302ms/step - loss: 0.2008 - accuracy: 0.9160 - val_loss: 0.1438 - val_accuracy: 0.9529\n",
            "Epoch 5/5\n",
            "65/65 [==============================] - 19s 297ms/step - loss: 0.1751 - accuracy: 0.9355 - val_loss: 0.2334 - val_accuracy: 0.9147\n"
          ],
          "name": "stdout"
        }
      ]
    },
    {
      "cell_type": "code",
      "metadata": {
        "id": "cq-Xtfvr0Dr2",
        "colab_type": "code",
        "colab": {
          "base_uri": "https://localhost:8080/",
          "height": 289
        },
        "outputId": "bc84025d-5a95-4519-e969-c96daf6fa684"
      },
      "source": [
        "fig = plt.figure(figsize=(16,4))\n",
        "ax = fig.add_subplot(121)\n",
        "ax.plot(history.history[\"loss\"],label='Training')\n",
        "ax.plot(history.history[\"val_loss\"],label='Validation')\n",
        "legend = ax.legend(loc='best', shadow=True, fontsize='x-large')\n",
        "ax.set_title(\"Loss\")\n",
        "ax.set_xlabel(\"epochs\")\n",
        "\n",
        "ax2 = fig.add_subplot(122)\n",
        "ax2.plot(history.history[\"accuracy\"],label='Training')\n",
        "ax2.plot(history.history[\"val_accuracy\"],label='Validation')\n",
        "legend = ax2.legend(loc='best', shadow=True, fontsize='x-large')\n",
        "ax2.set_title(\"Accuracy\")\n",
        "ax2.set_xlabel(\"epochs\")\n",
        "ax2.set_ylim(0, 1)\n",
        "\n",
        "plt.show()"
      ],
      "execution_count": 40,
      "outputs": [
        {
          "output_type": "display_data",
          "data": {
            "image/png": "[encoded data removed]",
            "text/plain": [
              "<Figure size 1152x288 with 2 Axes>"
            ]
          },
          "metadata": {
            "tags": [],
            "needs_background": "light"
          }
        }
      ]
    },
    {
      "cell_type": "code",
      "metadata": {
        "id": "vAg5Aq39xfDV",
        "colab_type": "code",
        "colab": {}
      },
      "source": [
        "try:\n",
        "  predictions = model.predict(test_generator,steps = nb_samples)\n",
        "except:\n",
        "  print('Damn!')"
      ],
      "execution_count": 0,
      "outputs": []
    },
    {
      "cell_type": "code",
      "metadata": {
        "id": "IOZiQQNDz1S-",
        "colab_type": "code",
        "colab": {}
      },
      "source": [
        "predictions_df=pd.DataFrame(data=filenames, columns=[\"image_names\"])\n",
        "predictions_df[\"image_names\"]=predictions_df[\"image_names\"].str.replace(\"test/\",\"\")\n",
        "predictions_df['prediction']=predictions\n",
        "threshold=0.5\n",
        "predictions_df['emergency_or_not']=['1' if x >= threshold else '0' for x in predictions_df['prediction']]\n",
        "predictions_df.drop(columns=\"prediction\",inplace=True)"
      ],
      "execution_count": 0,
      "outputs": []
    },
    {
      "cell_type": "code",
      "metadata": {
        "id": "CHYaQ-y8z9Ba",
        "colab_type": "code",
        "colab": {}
      },
      "source": [
        "predictions_df.to_csv('submission.csv',index=False)"
      ],
      "execution_count": 0,
      "outputs": []
    },
    {
      "cell_type": "code",
      "metadata": {
        "id": "JcRRF-xJ0S2G",
        "colab_type": "code",
        "colab": {}
      },
      "source": [
        ""
      ],
      "execution_count": 0,
      "outputs": []
    }
  ]
}